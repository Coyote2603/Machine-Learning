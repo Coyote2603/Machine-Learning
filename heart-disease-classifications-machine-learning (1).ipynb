{
 "cells": [
  {
   "cell_type": "markdown",
   "metadata": {},
   "source": [
    "# Naive Bayes Classifier in Python"
   ]
  },
  {
   "cell_type": "markdown",
   "metadata": {},
   "source": [
    "<a class=\"anchor\" id=\"0.1\"></a>\n",
    "# **Table of Contents**\n",
    "\n",
    "1.\t[Introduction to Naive Bayes algorithm](#1)\n",
    "2. [Guassian naive bayes algorithm](#2)\n",
    "3.\t[Import dataset](#3)\n",
    "4.\t[Basic EDA](#4)\n",
    "5.[Heatmap](#5)\n",
    "6.[Normalize data](#6)\n",
    "7.[Naive bayes classifier](#7)\n",
    "8.[confusion matrix](#8)\n",
    "9.[LDA](#9)\n",
    "10.[QDA](#10)"
   ]
  },
  {
   "cell_type": "markdown",
   "metadata": {
    "_uuid": "5878df22aae1c5888a07fe2c49d0bbe1551a3c55"
   },
   "source": [
    "# INTRODUCTION<a class=\"anchor\" id=\"1\"></a>\n",
    "\n",
    "[Table of Contents](#0.1)\n",
    "\n",
    "<br>\n",
    "We have a data which classified if patients have heart disease or not according to features in it. We will try to use this data to create a model which tries predict if a patient has this disease or not. "
   ]
  },
  {
   "cell_type": "markdown",
   "metadata": {},
   "source": [
    "**What is Naive Bayes algorithm?**\n",
    "\n",
    "Naive Bayes is a classification technique based on Bayes’ Theorem(*Probability theory*) with an assumption that all the features that predicts the target value are independent of each other. In simple terms, a Naive Bayes classifier assumes that the presence of a particular feature in a class is unrelated to the presence of any other feature in determining the target value.\n",
    "\n",
    "This assumption we just read about is very **Naive** when we are dealing with real world data because most of the times, features do depend on each other in determining the target .\n",
    "\n",
    "> Naive Bayes model is easy to build and particularly useful for very large data sets. Along with simplicity, Naive Bayes is known to outperform even highly sophisticated classification methods.\n",
    "\n",
    "Bayes theorem provides a way of calculating posterior probability P(c|x) - *(read as Probability of **c** given **x**)*,  from P(c), P(x) and P(x|c). Look at the equation below:\n",
    ">\n",
    "> $$\\mathbf{P} \\left({x \\mid c} \\right) = \\frac{\\mathbf{P} \\left ({c \\mid x} \\right) \\mathbf{P} \\left({c} \\right)}{\\mathbf{P} \\left( {x} \\right)}$$\n",
    "\n",
    "In the *above* equation,\n",
    "\n",
    "* P(c|x) is the posterior probability of class (c, target) given predictor (x, attributes).\n",
    "* P(c) is the prior probability of class **c**.\n",
    "* P(x|c) is the likelihood which is the probability of predictor(the query  **x**) given class.\n",
    "* P(x) is the prior probability of predictor **x**.\n",
    "\n",
    "\n",
    "In machine learning, Naïve Bayes classification is a straightforward and powerful algorithm for the classification task. Naïve Bayes classification is based on applying Bayes’ theorem with strong independence assumption between the features.  Naïve Bayes classification produces good results when we use it for textual data analysis such as Natural Language Processing.\n",
    "\n",
    "\n",
    "Naïve Bayes models are also known as `simple Bayes` or `independent Bayes`. All these names refer to the application of Bayes’ theorem in the classifier’s decision rule. Naïve Bayes classifier applies the Bayes’ theorem in practice. This classifier brings the power of Bayes’ theorem to machine learning\n",
    "\n"
   ]
  },
  {
   "cell_type": "markdown",
   "metadata": {},
   "source": [
    "## **2.Gaussian Naïve Bayes algorithm*** <a class=\"anchor\" id=\"2\"></a>\n",
    "\n",
    "[Table of Contents](#0.1)\n",
    "\n",
    "\n",
    "When we have continuous attribute values, we made an assumption that the values associated with each class are distributed according to Gaussian or Normal distribution. For example, suppose the training data contains a continuous attribute x. We first segment the data by the class, and then compute the mean and variance of x in each class. Let µi be the mean of the values and let σi be the variance of the values associated with the ith class. Suppose we have some observation value xi . Then, the probability distribution of xi given a class can be computed by the following equation –\n",
    "\n",
    "\n",
    "![Gaussian Naive Bayes algorithm](https://encrypted-tbn0.gstatic.com/images?q=tbn:ANd9GcQEWCcq1XtC1Yw20KWSHn2axYa7eY-a0T1TGtdVn5PvOpv9wW3FeA&s)"
   ]
  },
  {
   "cell_type": "code",
   "execution_count": 1,
   "metadata": {
    "_cell_guid": "b1076dfc-b9ad-4769-8c92-a6c4dae69d19",
    "_uuid": "8f2839f25d086af736a60e9eeb907d3b93b6e0e5"
   },
   "outputs": [],
   "source": [
    "# This Python 3 environment comes with many helpful analytics libraries installed\n",
    "# It is defined by the kaggle/python docker image: https://github.com/kaggle/docker-python\n",
    "# For example, here's several helpful packages to load in \n",
    "\n",
    "import numpy as np\n",
    "import pandas as pd\n",
    "import matplotlib.pyplot as plt\n",
    "import seaborn as sns\n",
    "from sklearn.model_selection import train_test_split\n",
    "\n",
    "\n"
   ]
  },
  {
   "cell_type": "markdown",
   "metadata": {
    "_cell_guid": "79c7e3d0-c299-4dcb-8224-4455121ee9b0",
    "_uuid": "d629ff2d2480ee46fbb7e2d37f6b5fab8052498a",
    "collapsed": true
   },
   "source": [
    "## Importing Data<a class=\"anchor\" id=\"3\"></a>\n",
    "\n",
    "[Table of Contents](#0.3)\n"
   ]
  },
  {
   "cell_type": "code",
   "execution_count": 2,
   "metadata": {
    "_uuid": "8d0ffd4e0549f6f2eb24c7cc258256f2fb63ec48"
   },
   "outputs": [],
   "source": [
    "# We are reading our data\n",
    "df = pd.read_csv(\"C:/Users/nehar/Desktop/CHRIST/semester2/heart_EDA.csv\")"
   ]
  },
  {
   "cell_type": "code",
   "execution_count": 3,
   "metadata": {
    "_uuid": "4dee2636361981b0f92a8a585d49f581283d6222"
   },
   "outputs": [
    {
     "data": {
      "text/html": [
       "<div>\n",
       "<style scoped>\n",
       "    .dataframe tbody tr th:only-of-type {\n",
       "        vertical-align: middle;\n",
       "    }\n",
       "\n",
       "    .dataframe tbody tr th {\n",
       "        vertical-align: top;\n",
       "    }\n",
       "\n",
       "    .dataframe thead th {\n",
       "        text-align: right;\n",
       "    }\n",
       "</style>\n",
       "<table border=\"1\" class=\"dataframe\">\n",
       "  <thead>\n",
       "    <tr style=\"text-align: right;\">\n",
       "      <th></th>\n",
       "      <th>age</th>\n",
       "      <th>sex</th>\n",
       "      <th>cp</th>\n",
       "      <th>trtbps</th>\n",
       "      <th>chol</th>\n",
       "      <th>fbs</th>\n",
       "      <th>restecg</th>\n",
       "      <th>thalachh</th>\n",
       "      <th>exng</th>\n",
       "      <th>oldpeak</th>\n",
       "      <th>slp</th>\n",
       "      <th>caa</th>\n",
       "      <th>thall</th>\n",
       "      <th>output</th>\n",
       "    </tr>\n",
       "  </thead>\n",
       "  <tbody>\n",
       "    <tr>\n",
       "      <th>0</th>\n",
       "      <td>63</td>\n",
       "      <td>1.0</td>\n",
       "      <td>3</td>\n",
       "      <td>145.0</td>\n",
       "      <td>233.0</td>\n",
       "      <td>1.0</td>\n",
       "      <td>0</td>\n",
       "      <td>150</td>\n",
       "      <td>0</td>\n",
       "      <td>2.3</td>\n",
       "      <td>0</td>\n",
       "      <td>0.0</td>\n",
       "      <td>1</td>\n",
       "      <td>1</td>\n",
       "    </tr>\n",
       "    <tr>\n",
       "      <th>1</th>\n",
       "      <td>37</td>\n",
       "      <td>1.0</td>\n",
       "      <td>2</td>\n",
       "      <td>130.0</td>\n",
       "      <td>250.0</td>\n",
       "      <td>0.0</td>\n",
       "      <td>1</td>\n",
       "      <td>187</td>\n",
       "      <td>0</td>\n",
       "      <td>3.5</td>\n",
       "      <td>0</td>\n",
       "      <td>0.0</td>\n",
       "      <td>2</td>\n",
       "      <td>1</td>\n",
       "    </tr>\n",
       "    <tr>\n",
       "      <th>2</th>\n",
       "      <td>41</td>\n",
       "      <td>0.0</td>\n",
       "      <td>1</td>\n",
       "      <td>130.0</td>\n",
       "      <td>204.0</td>\n",
       "      <td>0.0</td>\n",
       "      <td>0</td>\n",
       "      <td>172</td>\n",
       "      <td>0</td>\n",
       "      <td>1.4</td>\n",
       "      <td>2</td>\n",
       "      <td>0.0</td>\n",
       "      <td>2</td>\n",
       "      <td>1</td>\n",
       "    </tr>\n",
       "    <tr>\n",
       "      <th>3</th>\n",
       "      <td>56</td>\n",
       "      <td>1.0</td>\n",
       "      <td>1</td>\n",
       "      <td>120.0</td>\n",
       "      <td>236.0</td>\n",
       "      <td>NaN</td>\n",
       "      <td>1</td>\n",
       "      <td>178</td>\n",
       "      <td>0</td>\n",
       "      <td>0.8</td>\n",
       "      <td>2</td>\n",
       "      <td>0.0</td>\n",
       "      <td>2</td>\n",
       "      <td>1</td>\n",
       "    </tr>\n",
       "    <tr>\n",
       "      <th>4</th>\n",
       "      <td>57</td>\n",
       "      <td>0.0</td>\n",
       "      <td>0</td>\n",
       "      <td>120.0</td>\n",
       "      <td>NaN</td>\n",
       "      <td>0.0</td>\n",
       "      <td>1</td>\n",
       "      <td>163</td>\n",
       "      <td>1</td>\n",
       "      <td>0.6</td>\n",
       "      <td>2</td>\n",
       "      <td>0.0</td>\n",
       "      <td>2</td>\n",
       "      <td>1</td>\n",
       "    </tr>\n",
       "  </tbody>\n",
       "</table>\n",
       "</div>"
      ],
      "text/plain": [
       "   age  sex  cp  trtbps   chol  fbs  restecg  thalachh  exng  oldpeak  slp  \\\n",
       "0   63  1.0   3   145.0  233.0  1.0        0       150     0      2.3    0   \n",
       "1   37  1.0   2   130.0  250.0  0.0        1       187     0      3.5    0   \n",
       "2   41  0.0   1   130.0  204.0  0.0        0       172     0      1.4    2   \n",
       "3   56  1.0   1   120.0  236.0  NaN        1       178     0      0.8    2   \n",
       "4   57  0.0   0   120.0    NaN  0.0        1       163     1      0.6    2   \n",
       "\n",
       "   caa  thall  output  \n",
       "0  0.0      1       1  \n",
       "1  0.0      2       1  \n",
       "2  0.0      2       1  \n",
       "3  0.0      2       1  \n",
       "4  0.0      2       1  "
      ]
     },
     "execution_count": 3,
     "metadata": {},
     "output_type": "execute_result"
    }
   ],
   "source": [
    "# First 5 rows of our data\n",
    "df.head()"
   ]
  },
  {
   "cell_type": "markdown",
   "metadata": {
    "_uuid": "e7df2228490edc65cef3d01659b4ef96fe15e191"
   },
   "source": [
    "Data contains; <br>\n",
    "\n",
    "* age - age in years <br>\n",
    "* sex - (1 = male; 0 = female) <br>\n",
    "* cp - chest pain type <br>\n",
    "* trestbps - resting blood pressure (in mm Hg on admission to the hospital) <br>\n",
    "* chol - serum cholestoral in mg/dl <br>\n",
    "* fbs - (fasting blood sugar > 120 mg/dl) (1 = true; 0 = false) <br>\n",
    "* restecg - resting electrocardiographic results <br>\n",
    "* thalach - maximum heart rate achieved <br>\n",
    "* exang - exercise induced angina (1 = yes; 0 = no) <br>\n",
    "* oldpeak - ST depression induced by exercise relative to rest <br>\n",
    "* slope - the slope of the peak exercise ST segment <br>\n",
    "* ca - number of major vessels (0-3) colored by flourosopy <br>\n",
    "* thal - 3 = normal; 6 = fixed defect; 7 = reversable defect <br>\n",
    "* output - have disease or not (1=yes, 0=no)"
   ]
  },
  {
   "cell_type": "markdown",
   "metadata": {},
   "source": [
    "## Basic EDA<a class=\"anchor\" id=\"4\"></a>\n",
    "\n",
    "[Table of Contents](#0.4)"
   ]
  },
  {
   "cell_type": "code",
   "execution_count": 4,
   "metadata": {},
   "outputs": [],
   "source": [
    "\n",
    "# Replace missing values with mean\n",
    "df1 = df.fillna(df.mean())"
   ]
  },
  {
   "cell_type": "code",
   "execution_count": 5,
   "metadata": {
    "_uuid": "00af1961381609399dd80ca7c6a950277c120357"
   },
   "outputs": [
    {
     "data": {
      "text/plain": [
       "1    165\n",
       "0    138\n",
       "Name: output, dtype: int64"
      ]
     },
     "execution_count": 5,
     "metadata": {},
     "output_type": "execute_result"
    }
   ],
   "source": [
    "df1.output.value_counts()"
   ]
  },
  {
   "cell_type": "code",
   "execution_count": 41,
   "metadata": {},
   "outputs": [
    {
     "data": {
      "text/html": [
       "<div>\n",
       "<style scoped>\n",
       "    .dataframe tbody tr th:only-of-type {\n",
       "        vertical-align: middle;\n",
       "    }\n",
       "\n",
       "    .dataframe tbody tr th {\n",
       "        vertical-align: top;\n",
       "    }\n",
       "\n",
       "    .dataframe thead th {\n",
       "        text-align: right;\n",
       "    }\n",
       "</style>\n",
       "<table border=\"1\" class=\"dataframe\">\n",
       "  <thead>\n",
       "    <tr style=\"text-align: right;\">\n",
       "      <th></th>\n",
       "      <th>age</th>\n",
       "      <th>sex</th>\n",
       "      <th>cp</th>\n",
       "      <th>trtbps</th>\n",
       "      <th>chol</th>\n",
       "      <th>fbs</th>\n",
       "      <th>restecg</th>\n",
       "      <th>thalachh</th>\n",
       "      <th>exng</th>\n",
       "      <th>oldpeak</th>\n",
       "      <th>slp</th>\n",
       "      <th>caa</th>\n",
       "      <th>thall</th>\n",
       "      <th>output</th>\n",
       "    </tr>\n",
       "  </thead>\n",
       "  <tbody>\n",
       "    <tr>\n",
       "      <th>0</th>\n",
       "      <td>63</td>\n",
       "      <td>1.0</td>\n",
       "      <td>3</td>\n",
       "      <td>145.0</td>\n",
       "      <td>233.000000</td>\n",
       "      <td>1.000000</td>\n",
       "      <td>0</td>\n",
       "      <td>150</td>\n",
       "      <td>0</td>\n",
       "      <td>2.3</td>\n",
       "      <td>0</td>\n",
       "      <td>0.0</td>\n",
       "      <td>1</td>\n",
       "      <td>1</td>\n",
       "    </tr>\n",
       "    <tr>\n",
       "      <th>1</th>\n",
       "      <td>37</td>\n",
       "      <td>1.0</td>\n",
       "      <td>2</td>\n",
       "      <td>130.0</td>\n",
       "      <td>250.000000</td>\n",
       "      <td>0.000000</td>\n",
       "      <td>1</td>\n",
       "      <td>187</td>\n",
       "      <td>0</td>\n",
       "      <td>3.5</td>\n",
       "      <td>0</td>\n",
       "      <td>0.0</td>\n",
       "      <td>2</td>\n",
       "      <td>1</td>\n",
       "    </tr>\n",
       "    <tr>\n",
       "      <th>2</th>\n",
       "      <td>41</td>\n",
       "      <td>0.0</td>\n",
       "      <td>1</td>\n",
       "      <td>130.0</td>\n",
       "      <td>204.000000</td>\n",
       "      <td>0.000000</td>\n",
       "      <td>0</td>\n",
       "      <td>172</td>\n",
       "      <td>0</td>\n",
       "      <td>1.4</td>\n",
       "      <td>2</td>\n",
       "      <td>0.0</td>\n",
       "      <td>2</td>\n",
       "      <td>1</td>\n",
       "    </tr>\n",
       "    <tr>\n",
       "      <th>3</th>\n",
       "      <td>56</td>\n",
       "      <td>1.0</td>\n",
       "      <td>1</td>\n",
       "      <td>120.0</td>\n",
       "      <td>236.000000</td>\n",
       "      <td>0.159011</td>\n",
       "      <td>1</td>\n",
       "      <td>178</td>\n",
       "      <td>0</td>\n",
       "      <td>0.8</td>\n",
       "      <td>2</td>\n",
       "      <td>0.0</td>\n",
       "      <td>2</td>\n",
       "      <td>1</td>\n",
       "    </tr>\n",
       "    <tr>\n",
       "      <th>4</th>\n",
       "      <td>57</td>\n",
       "      <td>0.0</td>\n",
       "      <td>0</td>\n",
       "      <td>120.0</td>\n",
       "      <td>246.121429</td>\n",
       "      <td>0.000000</td>\n",
       "      <td>1</td>\n",
       "      <td>163</td>\n",
       "      <td>1</td>\n",
       "      <td>0.6</td>\n",
       "      <td>2</td>\n",
       "      <td>0.0</td>\n",
       "      <td>2</td>\n",
       "      <td>1</td>\n",
       "    </tr>\n",
       "  </tbody>\n",
       "</table>\n",
       "</div>"
      ],
      "text/plain": [
       "   age  sex  cp  trtbps        chol       fbs  restecg  thalachh  exng  \\\n",
       "0   63  1.0   3   145.0  233.000000  1.000000        0       150     0   \n",
       "1   37  1.0   2   130.0  250.000000  0.000000        1       187     0   \n",
       "2   41  0.0   1   130.0  204.000000  0.000000        0       172     0   \n",
       "3   56  1.0   1   120.0  236.000000  0.159011        1       178     0   \n",
       "4   57  0.0   0   120.0  246.121429  0.000000        1       163     1   \n",
       "\n",
       "   oldpeak  slp  caa  thall  output  \n",
       "0      2.3    0  0.0      1       1  \n",
       "1      3.5    0  0.0      2       1  \n",
       "2      1.4    2  0.0      2       1  \n",
       "3      0.8    2  0.0      2       1  \n",
       "4      0.6    2  0.0      2       1  "
      ]
     },
     "execution_count": 41,
     "metadata": {},
     "output_type": "execute_result"
    }
   ],
   "source": [
    "df1.head()"
   ]
  },
  {
   "cell_type": "code",
   "execution_count": 6,
   "metadata": {
    "_uuid": "f0c639a82d794e41978199f7fa4405a01a7b805e"
   },
   "outputs": [
    {
     "data": {
      "image/png": "[encoded data removed]",
      "text/plain": [
       "<Figure size 432x288 with 1 Axes>"
      ]
     },
     "metadata": {
      "needs_background": "light"
     },
     "output_type": "display_data"
    }
   ],
   "source": [
    "sns.countplot(x=\"output\", data=df1, palette=\"bwr\")\n",
    "plt.show()"
   ]
  },
  {
   "cell_type": "code",
   "execution_count": 7,
   "metadata": {
    "_uuid": "dd20ffc31d87de07a6f2941b0500cda8c0b1b8e6"
   },
   "outputs": [
    {
     "name": "stdout",
     "output_type": "stream",
     "text": [
      "Percentage of Patients Haven't Heart Disease: 45.54%\n",
      "Percentage of Patients Have Heart Disease: 54.46%\n"
     ]
    }
   ],
   "source": [
    "countNoDisease = len(df1[df1.output == 0])\n",
    "countHaveDisease = len(df1[df1.output == 1])\n",
    "print(\"Percentage of Patients Haven't Heart Disease: {:.2f}%\".format((countNoDisease / (len(df1.output))*100)))\n",
    "print(\"Percentage of Patients Have Heart Disease: {:.2f}%\".format((countHaveDisease / (len(df1.output))*100)))"
   ]
  },
  {
   "cell_type": "code",
   "execution_count": 8,
   "metadata": {
    "_uuid": "aca4074785c40bcf036a59c14c78e3a503904724"
   },
   "outputs": [
    {
     "data": {
      "image/png": "[encoded data removed]",
      "text/plain": [
       "<Figure size 432x288 with 1 Axes>"
      ]
     },
     "metadata": {
      "needs_background": "light"
     },
     "output_type": "display_data"
    }
   ],
   "source": [
    "sns.countplot(x='sex', data=df1, palette=\"mako_r\")\n",
    "plt.xlabel(\"Sex (0 = female, 1= male)\")\n",
    "plt.show()"
   ]
  },
  {
   "cell_type": "code",
   "execution_count": 9,
   "metadata": {
    "_uuid": "8780860cb02768a3bf112a41ab67f1f6bebe9146"
   },
   "outputs": [
    {
     "name": "stdout",
     "output_type": "stream",
     "text": [
      "Percentage of Female Patients: 30.03%\n",
      "Percentage of Male Patients: 64.03%\n"
     ]
    }
   ],
   "source": [
    "countFemale = len(df1[df1.sex == 0])\n",
    "countMale = len(df1[df1.sex == 1])\n",
    "print(\"Percentage of Female Patients: {:.2f}%\".format((countFemale / (len(df1.sex))*100)))\n",
    "print(\"Percentage of Male Patients: {:.2f}%\".format((countMale / (len(df1.sex))*100)))"
   ]
  },
  {
   "cell_type": "code",
   "execution_count": 10,
   "metadata": {
    "_uuid": "435f8691396c6f2b1a901809286eb64112126582"
   },
   "outputs": [
    {
     "data": {
      "text/html": [
       "<div>\n",
       "<style scoped>\n",
       "    .dataframe tbody tr th:only-of-type {\n",
       "        vertical-align: middle;\n",
       "    }\n",
       "\n",
       "    .dataframe tbody tr th {\n",
       "        vertical-align: top;\n",
       "    }\n",
       "\n",
       "    .dataframe thead th {\n",
       "        text-align: right;\n",
       "    }\n",
       "</style>\n",
       "<table border=\"1\" class=\"dataframe\">\n",
       "  <thead>\n",
       "    <tr style=\"text-align: right;\">\n",
       "      <th></th>\n",
       "      <th>age</th>\n",
       "      <th>sex</th>\n",
       "      <th>cp</th>\n",
       "      <th>trtbps</th>\n",
       "      <th>chol</th>\n",
       "      <th>fbs</th>\n",
       "      <th>restecg</th>\n",
       "      <th>thalachh</th>\n",
       "      <th>exng</th>\n",
       "      <th>oldpeak</th>\n",
       "      <th>slp</th>\n",
       "      <th>caa</th>\n",
       "      <th>thall</th>\n",
       "    </tr>\n",
       "    <tr>\n",
       "      <th>output</th>\n",
       "      <th></th>\n",
       "      <th></th>\n",
       "      <th></th>\n",
       "      <th></th>\n",
       "      <th></th>\n",
       "      <th></th>\n",
       "      <th></th>\n",
       "      <th></th>\n",
       "      <th></th>\n",
       "      <th></th>\n",
       "      <th></th>\n",
       "      <th></th>\n",
       "      <th></th>\n",
       "    </tr>\n",
       "  </thead>\n",
       "  <tbody>\n",
       "    <tr>\n",
       "      <th>0</th>\n",
       "      <td>56.601449</td>\n",
       "      <td>0.822070</td>\n",
       "      <td>0.478261</td>\n",
       "      <td>134.398551</td>\n",
       "      <td>251.163820</td>\n",
       "      <td>0.166334</td>\n",
       "      <td>0.449275</td>\n",
       "      <td>139.101449</td>\n",
       "      <td>0.550725</td>\n",
       "      <td>1.585507</td>\n",
       "      <td>1.166667</td>\n",
       "      <td>1.173888</td>\n",
       "      <td>2.543478</td>\n",
       "    </tr>\n",
       "    <tr>\n",
       "      <th>1</th>\n",
       "      <td>52.496970</td>\n",
       "      <td>0.562467</td>\n",
       "      <td>1.375758</td>\n",
       "      <td>129.839839</td>\n",
       "      <td>241.904156</td>\n",
       "      <td>0.152886</td>\n",
       "      <td>0.593939</td>\n",
       "      <td>158.466667</td>\n",
       "      <td>0.139394</td>\n",
       "      <td>0.583030</td>\n",
       "      <td>1.593939</td>\n",
       "      <td>0.393898</td>\n",
       "      <td>2.121212</td>\n",
       "    </tr>\n",
       "  </tbody>\n",
       "</table>\n",
       "</div>"
      ],
      "text/plain": [
       "              age       sex        cp      trtbps        chol       fbs  \\\n",
       "output                                                                    \n",
       "0       56.601449  0.822070  0.478261  134.398551  251.163820  0.166334   \n",
       "1       52.496970  0.562467  1.375758  129.839839  241.904156  0.152886   \n",
       "\n",
       "         restecg    thalachh      exng   oldpeak       slp       caa     thall  \n",
       "output                                                                          \n",
       "0       0.449275  139.101449  0.550725  1.585507  1.166667  1.173888  2.543478  \n",
       "1       0.593939  158.466667  0.139394  0.583030  1.593939  0.393898  2.121212  "
      ]
     },
     "execution_count": 10,
     "metadata": {},
     "output_type": "execute_result"
    }
   ],
   "source": [
    "df1.groupby('output').mean()"
   ]
  },
  {
   "cell_type": "code",
   "execution_count": 11,
   "metadata": {
    "_uuid": "e0eed947b5490e93a43515ad6d2a6af9713f16ce"
   },
   "outputs": [
    {
     "data": {
      "image/png": "[encoded data removed]",
      "text/plain": [
       "<Figure size 1440x432 with 1 Axes>"
      ]
     },
     "metadata": {
      "needs_background": "light"
     },
     "output_type": "display_data"
    }
   ],
   "source": [
    "pd.crosstab(df1.age,df1.output).plot(kind=\"bar\",figsize=(20,6))\n",
    "plt.title('Heart Disease Frequency for Ages')\n",
    "plt.xlabel('Age')\n",
    "plt.ylabel('Frequency')\n",
    "plt.savefig('heartDiseaseAndAges.png')\n",
    "plt.show()"
   ]
  },
  {
   "cell_type": "code",
   "execution_count": 12,
   "metadata": {
    "_uuid": "3209c3a2fe67592b6ff6851327e98ac7606e14eb"
   },
   "outputs": [
    {
     "data": {
      "image/png": "[encoded data removed]",
      "text/plain": [
       "<Figure size 1080x432 with 1 Axes>"
      ]
     },
     "metadata": {
      "needs_background": "light"
     },
     "output_type": "display_data"
    }
   ],
   "source": [
    "pd.crosstab(df1.fbs,df1.output).plot(kind=\"bar\",figsize=(15,6),color=['#FFC904','#111645' ])\n",
    "plt.title('Heart Disease Frequency According To FBS')\n",
    "plt.xlabel('FBS - (Fasting Blood Sugar > 120 mg/dl) (1 = true; 0 = false)')\n",
    "\n",
    "plt.legend([\"Haven't Disease\", \"Have Disease\"])\n",
    "plt.ylabel('Frequency of Disease or Not')\n",
    "plt.show()"
   ]
  },
  {
   "cell_type": "code",
   "execution_count": 13,
   "metadata": {
    "_uuid": "10be6f01d184480eca7437799c214b4847fd3543"
   },
   "outputs": [
    {
     "data": {
      "image/png": "[encoded data removed]",
      "text/plain": [
       "<Figure size 1080x432 with 1 Axes>"
      ]
     },
     "metadata": {
      "needs_background": "light"
     },
     "output_type": "display_data"
    }
   ],
   "source": [
    "pd.crosstab(df1.cp,df1.output).plot(kind=\"bar\",figsize=(15,6),color=['#11A5AA','#AA1190' ])\n",
    "plt.title('Heart Disease Frequency According To Chest Pain Type')\n",
    "plt.xlabel('Chest Pain Type')\n",
    "\n",
    "plt.ylabel('Frequency of Disease or Not')\n",
    "plt.show()"
   ]
  },
  {
   "cell_type": "markdown",
   "metadata": {},
   "source": [
    "## correlation plot<a class=\"anchor\" id=\"5\"></a>\n",
    "\n",
    "[Table of Contents](#0.5)\n",
    "\n"
   ]
  },
  {
   "cell_type": "code",
   "execution_count": 18,
   "metadata": {},
   "outputs": [
    {
     "name": "stdout",
     "output_type": "stream",
     "text": [
      "               age       sex        cp    trtbps      chol       fbs  \\\n",
      "age       1.000000 -0.084240 -0.068653  0.276293  0.186963  0.115130   \n",
      "sex      -0.084240  1.000000 -0.041313 -0.059402 -0.172075  0.040996   \n",
      "cp       -0.068653 -0.041313  1.000000  0.070211 -0.063772  0.088777   \n",
      "trtbps    0.276293 -0.059402  0.070211  1.000000  0.112037  0.168221   \n",
      "chol      0.186963 -0.172075 -0.063772  0.112037  1.000000  0.014732   \n",
      "fbs       0.115130  0.040996  0.088777  0.168221  0.014732  1.000000   \n",
      "restecg  -0.116211 -0.047028  0.044421 -0.121266 -0.150994 -0.080643   \n",
      "thalachh -0.398522 -0.063450  0.295762 -0.046786 -0.019003 -0.008551   \n",
      "exng      0.096801  0.135315 -0.394280  0.059039  0.053448  0.024132   \n",
      "oldpeak   0.210013  0.113990 -0.149230  0.197621  0.044047  0.001950   \n",
      "slp      -0.168814 -0.030848  0.119717 -0.136884  0.018426 -0.057821   \n",
      "caa       0.263706  0.119331 -0.180338  0.092671  0.066296  0.116767   \n",
      "thall     0.068001  0.219426 -0.161736  0.072341  0.126000 -0.032876   \n",
      "output   -0.225439 -0.285937  0.433798 -0.134168 -0.093788 -0.018950   \n",
      "\n",
      "           restecg  thalachh      exng   oldpeak       slp       caa  \\\n",
      "age      -0.116211 -0.398522  0.096801  0.210013 -0.168814  0.263706   \n",
      "sex      -0.047028 -0.063450  0.135315  0.113990 -0.030848  0.119331   \n",
      "cp        0.044421  0.295762 -0.394280 -0.149230  0.119717 -0.180338   \n",
      "trtbps   -0.121266 -0.046786  0.059039  0.197621 -0.136884  0.092671   \n",
      "chol     -0.150994 -0.019003  0.053448  0.044047  0.018426  0.066296   \n",
      "fbs      -0.080643 -0.008551  0.024132  0.001950 -0.057821  0.116767   \n",
      "restecg   1.000000  0.044123 -0.070733 -0.058770  0.093045 -0.072130   \n",
      "thalachh  0.044123  1.000000 -0.378812 -0.344187  0.386784 -0.208539   \n",
      "exng     -0.070733 -0.378812  1.000000  0.288223 -0.257748  0.116964   \n",
      "oldpeak  -0.058770 -0.344187  0.288223  1.000000 -0.577537  0.210921   \n",
      "slp       0.093045  0.386784 -0.257748 -0.577537  1.000000 -0.071001   \n",
      "caa      -0.072130 -0.208539  0.116964  0.210921 -0.071001  1.000000   \n",
      "thall    -0.011981 -0.096439  0.206754  0.210244 -0.104764  0.140390   \n",
      "output    0.137230  0.421741 -0.436757 -0.430696  0.345877 -0.383608   \n",
      "\n",
      "             thall    output  \n",
      "age       0.068001 -0.225439  \n",
      "sex       0.219426 -0.285937  \n",
      "cp       -0.161736  0.433798  \n",
      "trtbps    0.072341 -0.134168  \n",
      "chol      0.126000 -0.093788  \n",
      "fbs      -0.032876 -0.018950  \n",
      "restecg  -0.011981  0.137230  \n",
      "thalachh -0.096439  0.421741  \n",
      "exng      0.206754 -0.436757  \n",
      "oldpeak   0.210244 -0.430696  \n",
      "slp      -0.104764  0.345877  \n",
      "caa       0.140390 -0.383608  \n",
      "thall     1.000000 -0.344029  \n",
      "output   -0.344029  1.000000  \n"
     ]
    }
   ],
   "source": [
    "import seaborn as sns\n",
    "import matplotlib.pyplot as plt\n",
    "\n",
    "\n",
    "# Calculate correlation matrix\n",
    "corr_matrix = df1.corr()\n",
    "\n",
    "print(corr_matrix)\n",
    "\n"
   ]
  },
  {
   "cell_type": "code",
   "execution_count": 19,
   "metadata": {},
   "outputs": [
    {
     "data": {
      "image/png": "[encoded data removed]",
      "text/plain": [
       "<Figure size 432x288 with 2 Axes>"
      ]
     },
     "metadata": {
      "needs_background": "light"
     },
     "output_type": "display_data"
    }
   ],
   "source": [
    "# Plot heatmap\n",
    "sns.heatmap(corr_matrix, cmap='coolwarm')\n",
    "plt.title('Correlation Matrix Heatmap')\n",
    "plt.show()\n"
   ]
  },
  {
   "cell_type": "markdown",
   "metadata": {},
   "source": [
    "if the assumption of independence does not hold in the data, the Naive Bayes classifier may not perform well and other classification methods may be more appropriate."
   ]
  },
  {
   "cell_type": "markdown",
   "metadata": {
    "_uuid": "ee237d0ae2c7686cf7fda643f32bb55add7b4787"
   },
   "source": [
    "### Normalize Data<a class=\"anchor\" id=\"6\"></a>\n",
    "\n",
    "[Table of Contents](#0.6)\n",
    "<br>\n",
    "<br>\n",
    "<img src=\"https://beyondbacktesting.files.wordpress.com/2017/07/normalization.png?w=863\" width=\"400px\"/>"
   ]
  },
  {
   "cell_type": "markdown",
   "metadata": {},
   "source": [
    " Normalization helps ensure that the Naive Bayes algorithm(Any ML algorithm) is not biased towards any particular feature due to its scale. This can lead to more accurate predictions and a better overall performance of the algorithm. feature A ranges from 0 to 1, while feature B ranges from 0 to 1000. If we were to train a Naive Bayes model on this dataset without normalization, feature B would have a much larger impact on the model due to its larger magnitude, regardless of its actual contribution to the target variable. Normalizing the input data to the same range of values using min-max scaling would mitigate this issue, allowing the model to weigh each feature more fairly."
   ]
  },
  {
   "cell_type": "markdown",
   "metadata": {},
   "source": [
    "X: This variable contains the independent variables used to predict the output variable. In this dataset, X contains the following features: age, sex, chest pain type, resting blood pressure, cholesterol, fasting blood sugar, resting electrocardiographic results, maximum heart rate achieved, exercise induced angina, oldpeak, the slope of the peak exercise ST segment, number of major vessels colored by flourosopy, and thalassemia.\n",
    "\n",
    "y: This variable contains the dependent variable which is to be predicted using the input features. In this dataset, y contains the output variable 'output', which indicates whether a patient has heart disease or not. '1' indicates the presence of heart disease and '0' indicates the absence of heart disease."
   ]
  },
  {
   "cell_type": "markdown",
   "metadata": {},
   "source": [
    "# Naive Bayes Algorithm<a class=\"anchor\" id=\"7\"></a>\n",
    "\n",
    "[Table of Contents](#0.7)\n"
   ]
  },
  {
   "cell_type": "code",
   "execution_count": 20,
   "metadata": {},
   "outputs": [],
   "source": [
    "accuracies = {}\n"
   ]
  },
  {
   "cell_type": "code",
   "execution_count": 21,
   "metadata": {
    "_uuid": "c60916b235e1962a53f95593b8d020c0acc079ed"
   },
   "outputs": [
    {
     "name": "stdout",
     "output_type": "stream",
     "text": [
      "Accuracy: 0.8524590163934426\n"
     ]
    }
   ],
   "source": [
    "import pandas as pd\n",
    "from sklearn.naive_bayes import GaussianNB\n",
    "from sklearn.model_selection import train_test_split\n",
    "from sklearn.metrics import classification_report\n",
    "from sklearn.metrics import accuracy_score, f1_score, precision_score, recall_score\n",
    "from sklearn.metrics import accuracy_score\n",
    "\n",
    "# Load the dataset\n",
    "data = df.copy()\n",
    "\n",
    "# Replace missing values with mean\n",
    "data = data.fillna(data.mean())\n",
    "\n",
    "# Normalize the data\n",
    "data = (data - data.min()) / (data.max() - data.min())\n",
    "\n",
    "# Split the dataset into input (X) and output (y) variables\n",
    "X = data.drop('output', axis=1)\n",
    "y = data['output']\n",
    "\n",
    "\n",
    "# Split the data into training and testing sets\n",
    "#We will split our data. 80% of our data will be train data and 20% of it will be test data.\n",
    "X_train, X_test, y_train, y_test = train_test_split(X, y, test_size=0.2, random_state=0)\n",
    "\n",
    "# Create a Gaussian Naive Bayes classifier\n",
    "classifier = GaussianNB()\n",
    "\n",
    "# Train the classifier on the training data\n",
    "classifier.fit(X_train, y_train)\n",
    "\n",
    "# Predict the labels of the test data\n",
    "y_pred = classifier.predict(X_test)\n",
    "\n",
    "# Calculate the accuracy of the classifier\n",
    "accuracy = accuracy_score(y_test, y_pred)\n",
    "\n",
    "accuracies['Naive Bayes'] = accuracy\n",
    "\n",
    "print('Accuracy:', accuracy)\n"
   ]
  },
  {
   "cell_type": "markdown",
   "metadata": {},
   "source": [
    "An accuracy score of 0.85 means that the Naive Bayes classifier correctly predicted the class label for 85% of the instances in the test dataset. In other words, out of all the instances in the test dataset, 85% were classified correctly by the classifier.\n",
    "\n",
    "The accuracy score is a commonly used evaluation metric for classification models. It is calculated by dividing the number of correctly classified instances by the total number of instances in the test dataset.\n",
    "\n",
    "While an accuracy score of 0.85 may seem high, it is important to consider the context in which the classifier is being used. In some applications, an accuracy score of 0.85 may be sufficient, while in others, a higher accuracy score may be required. Additionally, the accuracy score should always be interpreted in conjunction with other evaluation metrics, such as precision, recall, and F1 score, to get a more comprehensive understanding of the classifier's performance.\n",
    "\n",
    "It is also worth noting that the Naive Bayes classifier assumes independence between the features, which may not always be true in real-world datasets. In such cases, other classification algorithms that do not make the same assumption, such as logistic regression or decision trees, may be more appropriate."
   ]
  },
  {
   "cell_type": "markdown",
   "metadata": {
    "_uuid": "058a659cd261c900ff5ce0c6894420cbc0d00232"
   },
   "source": []
  },
  {
   "cell_type": "markdown",
   "metadata": {
    "_uuid": "0f8e3cd00eb3f1c573468e4a8708d7a6ca8df67b"
   },
   "source": [
    "## Confusion Matrix<a class=\"anchor\" id=\"8\"></a>\n",
    "\n",
    "[Table of Contents](#0.8)\n",
    "\n",
    "A confusion matrix is a table that is used to evaluate the performance of a classification model. It is often used in supervised learning to understand how well a model is classifying instances into correct or incorrect categories. The matrix shows the true positives, true negatives, false positives, and false negatives of a model's predictions. The diagonal elements represent the correctly classified instances, while the off-diagonal elements represent the incorrectly classified instances. The number of true positives and true negatives gives the count of correctly classified instances, while the number of false positives and false negatives gives the count of incorrectly classified instances.\n"
   ]
  },
  {
   "cell_type": "code",
   "execution_count": 22,
   "metadata": {
    "_uuid": "3a280577a5739b773e3ce0ca50d3cda671ba9a32"
   },
   "outputs": [],
   "source": [
    "# Predicted values\n",
    "\n",
    "y_head_nb = classifier.predict(X_test)\n"
   ]
  },
  {
   "cell_type": "code",
   "execution_count": 23,
   "metadata": {
    "_uuid": "89e2140778e93d3eecfc41d5b995cb9131633313"
   },
   "outputs": [],
   "source": [
    "from sklearn.metrics import confusion_matrix\n",
    "\n",
    "\n",
    "cm_nb = confusion_matrix(y_test,y_head_nb)\n",
    "\n"
   ]
  },
  {
   "cell_type": "code",
   "execution_count": null,
   "metadata": {},
   "outputs": [],
   "source": []
  },
  {
   "cell_type": "code",
   "execution_count": 24,
   "metadata": {},
   "outputs": [
    {
     "data": {
      "image/png": "[encoded data removed]",
      "text/plain": [
       "<Figure size 432x288 with 1 Axes>"
      ]
     },
     "metadata": {
      "needs_background": "light"
     },
     "output_type": "display_data"
    }
   ],
   "source": [
    "plt.title(\"Naive Bayes Confusion Matrix\")\n",
    "sns.heatmap(cm_nb,annot=True,cmap=\"Blues\",fmt=\"d\",cbar=False, annot_kws={\"size\": 14})\n",
    "plt.show()"
   ]
  },
  {
   "cell_type": "markdown",
   "metadata": {},
   "source": [
    "The four cells of the confusion matrix represent the following:\n",
    "\n",
    "True Positive (TP): The number of observations that are correctly classified as positive (belonging to the positive class) which is 21 here\n",
    "False Positive (FP): The number of observations that are incorrectly classified as positive (belonging to the positive class, but actually belonging to the negative class) which is 6 here\n",
    "False Negative (FN): The number of observations that are incorrectly classified as negative (belonging to the negative class, but actually belonging to the positive class) which is 3 here\n",
    "True Negative (TN): The number of observations that are correctly classified as negative (belonging to the negative class) which is 31 here."
   ]
  },
  {
   "cell_type": "code",
   "execution_count": 25,
   "metadata": {},
   "outputs": [
    {
     "name": "stdout",
     "output_type": "stream",
     "text": [
      "F-score of Naive bayes: 0.8732394366197184\n",
      "Precision of Naive Bayes: 0.8378378378378378\n",
      "Recall of Naive Bayes: 0.9117647058823529\n"
     ]
    }
   ],
   "source": [
    "#for naive bayes classifier\n",
    "# Evaluate the performance of the classifier\n",
    "# Calculate the f-score\n",
    "f_score_nb = f1_score(y_test, y_head_nb)\n",
    "print('F-score of Naive bayes:', f_score_nb)\n",
    "\n",
    "# Calculate the precision\n",
    "precision_nb = precision_score(y_test, y_head_nb)\n",
    "print('Precision of Naive Bayes:', precision_nb)\n",
    "\n",
    "# Calculate the recall\n",
    "recall_nb = recall_score(y_test, y_head_nb)\n",
    "print('Recall of Naive Bayes:', recall_nb)"
   ]
  },
  {
   "cell_type": "markdown",
   "metadata": {},
   "source": [
    "# LDA<a class=\"anchor\" id=\"9\"></a>\n",
    "\n",
    "[Table of Contents](#9)\n"
   ]
  },
  {
   "cell_type": "markdown",
   "metadata": {},
   "source": [
    "Linear Discriminant Analysis (LDA) is a supervised learning algorithm used in machine learning for classification tasks. LDA is a statistical method that makes assumptions about the distribution of input data and aims to find a linear combination of input features that maximizes the separation between classes while minimizing the within-class variance.\n",
    "\n",
    "LDA assumes that the input features have a multivariate normal distribution with equal covariance matrices for each class. The algorithm finds the projection of the input features onto a lower-dimensional space that maximizes the separation between the classes, while also minimizing the within-class variance. This projection can be used to classify new data points by projecting them onto the same lower-dimensional space and assigning them to the class with the closest centroid."
   ]
  },
  {
   "cell_type": "code",
   "execution_count": 26,
   "metadata": {},
   "outputs": [],
   "source": [
    "import pandas as pd\n",
    "from sklearn.discriminant_analysis import LinearDiscriminantAnalysis\n",
    "from sklearn.model_selection import train_test_split\n",
    "from sklearn.metrics import accuracy_score, f1_score, precision_score, recall_score\n",
    "\n",
    "\n",
    "# Separate predictor variables and target variable\n",
    "X = data.drop('output', axis=1)\n",
    "y = data['output']\n",
    "\n"
   ]
  },
  {
   "cell_type": "code",
   "execution_count": 27,
   "metadata": {},
   "outputs": [
    {
     "name": "stdout",
     "output_type": "stream",
     "text": [
      "Accuracy: 0.8360655737704918\n"
     ]
    }
   ],
   "source": [
    "# Split the dataset into training and testing sets\n",
    "X_train, X_test, y_train, y_test = train_test_split(X, y, test_size=0.2, random_state=0)\n",
    "\n",
    "# Perform Discriminant Analysis\n",
    "lda = LinearDiscriminantAnalysis()\n",
    "lda.fit(X_train, y_train)\n",
    "\n",
    "# Make predictions on the testing set\n",
    "y_pred = lda.predict(X_test)\n",
    "accuracy2=lda.score(X_test,y_test)\n",
    "accuracies['Linear Discriminant Analysis'] = accuracy2\n",
    "\n",
    "# Print the accuracy score\n",
    "print(\"Accuracy:\", lda.score(X_test, y_test))\n"
   ]
  },
  {
   "cell_type": "code",
   "execution_count": 28,
   "metadata": {},
   "outputs": [],
   "source": [
    "# Predicted values\n",
    "\n",
    "y_head_lda = lda.predict(X_test)\n"
   ]
  },
  {
   "cell_type": "code",
   "execution_count": 29,
   "metadata": {},
   "outputs": [],
   "source": [
    "from sklearn.metrics import confusion_matrix\n",
    "\n",
    "\n",
    "cm_lda = confusion_matrix(y_test,y_head_lda)\n",
    "\n"
   ]
  },
  {
   "cell_type": "code",
   "execution_count": 30,
   "metadata": {},
   "outputs": [
    {
     "data": {
      "image/png": "[encoded data removed]",
      "text/plain": [
       "<Figure size 432x288 with 1 Axes>"
      ]
     },
     "metadata": {
      "needs_background": "light"
     },
     "output_type": "display_data"
    }
   ],
   "source": [
    "plt.title(\"linear discriminat analysis Confusion Matrix\")\n",
    "sns.heatmap(cm_lda,annot=True,cmap=\"Blues\",fmt=\"d\",cbar=False, annot_kws={\"size\": 14})\n",
    "plt.show()"
   ]
  },
  {
   "cell_type": "markdown",
   "metadata": {},
   "source": [
    "The four cells of the confusion matrix represent the following:\n",
    "\n",
    "True Positive (TP): The number of observations that are correctly classified as positive (belonging to the positive class) which is 20 here\n",
    "False Positive (FP): The number of observations that are incorrectly classified as positive (belonging to the positive class, but actually belonging to the negative class) which is 7 here\n",
    "False Negative (FN): The number of observations that are incorrectly classified as negative (belonging to the negative class, but actually belonging to the positive class) which is 3 here\n",
    "True Negative (TN): The number of observations that are correctly classified as negative (belonging to the negative class) which is 31 here."
   ]
  },
  {
   "cell_type": "code",
   "execution_count": 31,
   "metadata": {},
   "outputs": [
    {
     "name": "stdout",
     "output_type": "stream",
     "text": [
      "dict_keys(['Naive Bayes', 'Linear Discriminant Analysis']) dict_values([0.8524590163934426, 0.8360655737704918])\n"
     ]
    },
    {
     "data": {
      "image/png": "[encoded data removed]",
      "text/plain": [
       "<Figure size 432x360 with 1 Axes>"
      ]
     },
     "metadata": {},
     "output_type": "display_data"
    }
   ],
   "source": [
    "colors = [\"purple\", \"green\"]\n",
    "\n",
    "sns.set_style(\"whitegrid\")\n",
    "plt.figure(figsize=(6,5))\n",
    "plt.yticks(np.arange(0,100,10))\n",
    "plt.ylabel(\"Accuracy %\")\n",
    "plt.xlabel(\"Algorithms\")\n",
    "print(accuracies.keys(),accuracies.values())\n",
    "\n",
    "sns.barplot(x=list(accuracies.keys()), y=list(accuracies.values()), palette=colors)\n",
    "plt.show()"
   ]
  },
  {
   "cell_type": "markdown",
   "metadata": {},
   "source": [
    "We can see that Naive Bayes performed slightly better than LDA in classifying the data. However, the difference between the accuracies is not very significant, so it could also be that the performance difference is due to random variation in the data or model fitting process.\n",
    "\n",
    "It is also important to note that the accuracy score alone may not be sufficient to fully evaluate the performance of a model. It is recommended to also look at other metrics such as precision, recall, and F1 score to gain a more comprehensive understanding of the model's performance."
   ]
  },
  {
   "cell_type": "code",
   "execution_count": 32,
   "metadata": {},
   "outputs": [
    {
     "name": "stdout",
     "output_type": "stream",
     "text": [
      "F-score of LDA: 0.861111111111111\n",
      "Precision of LDA: 0.8157894736842105\n",
      "Recall of LDA: 0.9117647058823529\n"
     ]
    }
   ],
   "source": [
    "#for linear discriminant analysis\n",
    "# Calculate the f-score\n",
    "f_score_lda = f1_score(y_test, y_head_lda)\n",
    "print('F-score of LDA:', f_score_lda)\n",
    "\n",
    "# Calculate the precision\n",
    "precision_lda = precision_score(y_test, y_head_lda)\n",
    "print('Precision of LDA:', precision_lda)\n",
    "\n",
    "# Calculate the recall\n",
    "recall_lda = recall_score(y_test, y_head_lda)\n",
    "print('Recall of LDA:', recall_lda)"
   ]
  },
  {
   "cell_type": "markdown",
   "metadata": {},
   "source": [
    "Based on the given evaluation metrics, the Naive Bayes classifier has a higher F-score (0.873) than the Linear Discriminant Analysis (LDA) classifier (0.861). The F-score is a harmonic mean of precision and recall, which takes both measures into account and gives a more balanced evaluation of the classifier's performance.\n",
    "\n",
    "The Naive Bayes classifier also has a higher precision (0.838) than the LDA classifier (0.816), indicating that the Naive Bayes classifier produces fewer false positives (i.e., instances classified as positive but actually belonging to the negative class).\n",
    "\n",
    "However, both classifiers have the same recall (0.912), which indicates that they both correctly identify a high proportion of positive instances in the dataset.\n",
    "\n",
    "Overall, based on these evaluation metrics, the Naive Bayes classifier appears to be performing slightly better than the LDA classifier. However, it is important to note that the choice of the best classifier depends on various factors, such as the nature of the problem, the characteristics of the dataset, and the performance requirements of the application"
   ]
  },
  {
   "cell_type": "markdown",
   "metadata": {},
   "source": [
    "# QDA<a class=\"anchor\" id=\"10\"></a>\n",
    "\n",
    "[Table of Contents](#10)\n"
   ]
  },
  {
   "cell_type": "markdown",
   "metadata": {},
   "source": [
    "Quadratic Discriminant Analysis (QDA) is a statistical method used in machine learning for classification tasks. Like LDA, QDA assumes that the input features have a multivariate normal distribution, but unlike LDA, it does not assume that the covariance matrices for each class are equal.\n",
    "\n",
    "QDA aims to find a quadratic boundary that separates the classes in the input data. To do this, QDA calculates the mean and covariance matrices for each class in the dataset, just like LDA. However, instead of assuming that the covariance matrices are equal, QDA allows each class to have its own covariance matrix."
   ]
  },
  {
   "cell_type": "code",
   "execution_count": 76,
   "metadata": {},
   "outputs": [],
   "source": [
    "# Separate predictor variables and target variable\n",
    "\n",
    "\n",
    "X = data.iloc[:, :-1]\n",
    "y = data.iloc[:, -1]"
   ]
  },
  {
   "cell_type": "code",
   "execution_count": 77,
   "metadata": {},
   "outputs": [
    {
     "name": "stdout",
     "output_type": "stream",
     "text": [
      "Accuracy: 0.8360655737704918\n"
     ]
    }
   ],
   "source": [
    "# ## Quadratic Discriminant Analysis \n",
    "\n",
    "# #### Split the data into training and testing sets: Next, we split the data into training and testing sets using train_test_split() function. We use 80% of the data for training and 20% for testing, and set the random_state parameter to 42 for reproducibility. \n",
    "\n",
    "\n",
    "\n",
    "X_train, X_test, y_train, y_test = train_test_split(X, y, test_size=0.2, random_state=0)\n",
    "\n",
    "\n",
    "# #### Initialize QDA model \n",
    "\n",
    "# In[9]:\n",
    "\n",
    "\n",
    "qda = QuadraticDiscriminantAnalysis()\n",
    "\n",
    "\n",
    "# #### Fit the QDA model to the training data: We fit the QDA model to the training data using the fit() method. This step involves estimating the parameters of the QDA model from the training data. \n",
    "\n",
    "# In[10]:\n",
    "\n",
    "\n",
    "qda.fit(X_train, y_train)\n",
    "\n",
    "\n",
    "# #### Once the QDA model is trained, we use it to make predictions on the testing data using the predict() method.\n",
    "\n",
    "# In[11]:\n",
    "\n",
    "\n",
    "y_head_qda = qda.predict(X_test)\n",
    "\n",
    "\n",
    "# In[12]:\n",
    "\n",
    "\n",
    "accuracy3 = accuracy_score(y_test, y_head_qda)\n",
    "\n",
    "accuracies['Quadratic Discriminant Analysis'] = accuracy3\n",
    "print(\"Accuracy:\", accuracy3)\n",
    "\n",
    "\n",
    "\n",
    "\n",
    "\n"
   ]
  },
  {
   "cell_type": "code",
   "execution_count": 78,
   "metadata": {},
   "outputs": [],
   "source": [
    "# #### The QDA model on the testing data is 83.60% accurate. This gives us an estimate of how well our model is performing in terms of classification accuracy. \n",
    "\n",
    "# # Generate confusion matrix"
   ]
  },
  {
   "cell_type": "code",
   "execution_count": 79,
   "metadata": {},
   "outputs": [
    {
     "name": "stdout",
     "output_type": "stream",
     "text": [
      "F-score of QDA: 0.8529411764705882\n",
      "Precision of QDA: 0.8529411764705882\n",
      "Recall of QDA: 0.8529411764705882\n"
     ]
    }
   ],
   "source": [
    "#for QUADRATIC discriminant analysis\n",
    "# Calculate the f-score\n",
    "f_score_qda = f1_score(y_test, y_head_qda)\n",
    "print('F-score of QDA:', f_score_qda)\n",
    "\n",
    "# Calculate the precision\n",
    "precision_qda = precision_score(y_test, y_head_qda)\n",
    "print('Precision of QDA:', precision_qda)\n",
    "\n",
    "# Calculate the recall\n",
    "recall_qda = recall_score(y_test, y_head_qda)\n",
    "print('Recall of QDA:', recall_qda)"
   ]
  },
  {
   "cell_type": "code",
   "execution_count": 80,
   "metadata": {},
   "outputs": [
    {
     "data": {
      "image/png": "[encoded data removed]",
      "text/plain": [
       "<Figure size 432x288 with 1 Axes>"
      ]
     },
     "metadata": {},
     "output_type": "display_data"
    }
   ],
   "source": [
    "cm = confusion_matrix(y_test, y_pred)\n",
    "cm\n",
    "\n",
    "\n",
    "# In[14]:\n",
    "\n",
    "\n",
    "sns.heatmap(cm, annot=True, cmap=\"Blues\", fmt=\"d\", cbar=False)\n",
    "plt.xlabel('Predicted')\n",
    "plt.ylabel('Actual')\n",
    "plt.title('Confusion Matrix')\n",
    "plt.show()\n"
   ]
  },
  {
   "cell_type": "code",
   "execution_count": 75,
   "metadata": {},
   "outputs": [
    {
     "name": "stdout",
     "output_type": "stream",
     "text": [
      "dict_keys(['Naive Bayes', 'Linear Discriminant Analysis', 'Quadratic Discriminant Analysis']) dict_values([0.8524590163934426, 0.8360655737704918, 0.8360655737704918])\n"
     ]
    },
    {
     "data": {
      "image/png": "[encoded data removed]",
      "text/plain": [
       "<Figure size 576x432 with 1 Axes>"
      ]
     },
     "metadata": {},
     "output_type": "display_data"
    }
   ],
   "source": [
    "colors = [\"purple\", \"green\",\"blue\"]\n",
    "\n",
    "sns.set_style(\"whitegrid\")\n",
    "plt.figure(figsize=(8,6))\n",
    "plt.yticks(np.arange(0,100,10))\n",
    "plt.ylabel(\"Accuracy %\")\n",
    "plt.xlabel(\"Algorithms\")\n",
    "print(accuracies.keys(),accuracies.values())\n",
    "\n",
    "sns.barplot(x=list(accuracies.keys()), y=list(accuracies.values()), palette=colors)\n",
    "plt.show()"
   ]
  },
  {
   "cell_type": "markdown",
   "metadata": {},
   "source": [
    "We can see that Naive Bayes performed slightly better than LDA and QDA in classifying the data. However, the difference between the accuracies is not very significant, so it could also be that the performance difference is due to random variation in the data or model fitting process.\n",
    "\n",
    "It is also important to note that the accuracy score alone may not be sufficient to fully evaluate the performance of a model. It is recommended to also look at other metrics such as precision, recall, and F1 score to gain a more comprehensive understanding of the model's performance."
   ]
  },
  {
   "cell_type": "code",
   "execution_count": null,
   "metadata": {},
   "outputs": [],
   "source": []
  }
 ],
 "metadata": {
  "kernelspec": {
   "display_name": "Python 3 (ipykernel)",
   "language": "python",
   "name": "python3"
  },
  "language_info": {
   "codemirror_mode": {
    "name": "ipython",
    "version": 3
   },
   "file_extension": ".py",
   "mimetype": "text/x-python",
   "name": "python",
   "nbconvert_exporter": "python",
   "pygments_lexer": "ipython3",
   "version": "3.9.12"
  }
 },
 "nbformat": 4,
 "nbformat_minor": 1
}
